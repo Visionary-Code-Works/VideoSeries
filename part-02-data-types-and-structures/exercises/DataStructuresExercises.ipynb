{
 "cells": [
  {
   "cell_type": "markdown",
   "metadata": {},
   "source": [
    "# DataStructuresExercises.py"
   ]
  },
  {
   "cell_type": "markdown",
   "metadata": {},
   "source": [
    "## Exercise 1: List Operations\n",
    "\n",
    "Create a list of numbers from 1 to 5, then append 6 to the list and print it"
   ]
  },
  {
   "cell_type": "code",
   "execution_count": 1,
   "metadata": {},
   "outputs": [
    {
     "name": "stdout",
     "output_type": "stream",
     "text": [
      "Exercise 1: [1, 2, 3, 4, 5, 6]\n"
     ]
    }
   ],
   "source": [
    "numbers_list = [1, 2, 3, 4, 5]\n",
    "numbers_list.append(6)\n",
    "print(\"Exercise 1:\", numbers_list)\n"
   ]
  },
  {
   "cell_type": "markdown",
   "metadata": {},
   "source": [
    "## Exercise 2: List Slicing\n",
    "\n",
    "Given the list, slice it to get a new list containing elements from index 2 to 4"
   ]
  },
  {
   "cell_type": "code",
   "execution_count": 2,
   "metadata": {},
   "outputs": [
    {
     "name": "stdout",
     "output_type": "stream",
     "text": [
      "Exercise 2: [30, 40, 50]\n"
     ]
    }
   ],
   "source": [
    "sample_list = [10, 20, 30, 40, 50, 60]\n",
    "sliced_list = sample_list[2:5]\n",
    "print(\"Exercise 2:\", sliced_list)\n"
   ]
  },
  {
   "cell_type": "markdown",
   "metadata": {},
   "source": [
    "## Exercise 3: Tuple Creation\n",
    "\n",
    "Create a tuple with different data types (int, string, float) and print it"
   ]
  },
  {
   "cell_type": "code",
   "execution_count": 3,
   "metadata": {},
   "outputs": [
    {
     "name": "stdout",
     "output_type": "stream",
     "text": [
      "Exercise 3: (1, 'Python', 3.14)\n"
     ]
    }
   ],
   "source": [
    "mixed_tuple = (1, \"Python\", 3.14)\n",
    "print(\"Exercise 3:\", mixed_tuple)\n"
   ]
  },
  {
   "cell_type": "markdown",
   "metadata": {},
   "source": [
    "## Exercise 4: Access Tuple Elements\n",
    "\n",
    "Given the tuple, access and print the second element"
   ]
  },
  {
   "cell_type": "code",
   "execution_count": 4,
   "metadata": {},
   "outputs": [
    {
     "name": "stdout",
     "output_type": "stream",
     "text": [
      "Exercise 4: banana\n"
     ]
    }
   ],
   "source": [
    "sample_tuple = (\"apple\", \"banana\", \"cherry\")\n",
    "print(\"Exercise 4:\", sample_tuple[1])\n"
   ]
  },
  {
   "cell_type": "markdown",
   "metadata": {},
   "source": [
    "## Exercise 5: Set Manipulation\n",
    "\n",
    "Create a set, add an element to it, then remove a different element"
   ]
  },
  {
   "cell_type": "code",
   "execution_count": 5,
   "metadata": {},
   "outputs": [
    {
     "name": "stdout",
     "output_type": "stream",
     "text": [
      "Exercise 5: {'apple', 'cherry', 'orange'}\n"
     ]
    }
   ],
   "source": [
    "fruit_set = {\"apple\", \"banana\", \"cherry\"}\n",
    "fruit_set.add(\"orange\")\n",
    "fruit_set.discard(\"banana\")\n",
    "print(\"Exercise 5:\", fruit_set)\n"
   ]
  },
  {
   "cell_type": "markdown",
   "metadata": {},
   "source": [
    "## Exercise 6: Dictionary Operations\n",
    "\n",
    "Create a dictionary representing a person (name, age, city), then change the age"
   ]
  },
  {
   "cell_type": "code",
   "execution_count": 6,
   "metadata": {},
   "outputs": [
    {
     "name": "stdout",
     "output_type": "stream",
     "text": [
      "Exercise 6: {'name': 'Alice', 'age': 30, 'city': 'New York'}\n"
     ]
    }
   ],
   "source": [
    "person = {\n",
    "    \"name\": \"Alice\",\n",
    "    \"age\": 25,\n",
    "    \"city\": \"New York\"\n",
    "}\n",
    "person[\"age\"] = 30\n",
    "print(\"Exercise 6:\", person)\n"
   ]
  },
  {
   "cell_type": "markdown",
   "metadata": {},
   "source": [
    "## Exercise 7: Working with Dictionary Items\n",
    "\n",
    "Given the dictionary, iterate over it and print keys and values"
   ]
  },
  {
   "cell_type": "code",
   "execution_count": 7,
   "metadata": {},
   "outputs": [
    {
     "name": "stdout",
     "output_type": "stream",
     "text": [
      "Exercise 7:\n",
      "red: #FF0000\n",
      "green: #00FF00\n",
      "blue: #0000FF\n"
     ]
    }
   ],
   "source": [
    "sample_dict = {\"red\": \"#FF0000\", \"green\": \"#00FF00\", \"blue\": \"#0000FF\"}\n",
    "print(\"Exercise 7:\")\n",
    "for color, hex_code in sample_dict.items():\n",
    "    print(f\"{color}: {hex_code}\")\n"
   ]
  },
  {
   "cell_type": "markdown",
   "metadata": {},
   "source": [
    "## Exercise 8: Nested Data Structures\n",
    "\n",
    "Create a nested dictionary or list and access elements in it"
   ]
  },
  {
   "cell_type": "code",
   "execution_count": 8,
   "metadata": {},
   "outputs": [
    {
     "name": "stdout",
     "output_type": "stream",
     "text": [
      "Exercise 8: red\n"
     ]
    }
   ],
   "source": [
    "nested_dict = {\n",
    "    \"fruit\": \"apple\",\n",
    "    \"details\": {\"color\": \"red\", \"taste\": \"sweet\"}\n",
    "}\n",
    "print(\"Exercise 8:\", nested_dict[\"details\"][\"color\"])\n"
   ]
  },
  {
   "cell_type": "markdown",
   "metadata": {},
   "source": [
    "## Exercise 9: List Comprehension\n",
    "\n",
    "Use list comprehension to create a list of squares for numbers from 1 to 5"
   ]
  },
  {
   "cell_type": "code",
   "execution_count": 9,
   "metadata": {},
   "outputs": [
    {
     "name": "stdout",
     "output_type": "stream",
     "text": [
      "Exercise 9: [1, 4, 9, 16, 25]\n"
     ]
    }
   ],
   "source": [
    "squares = [x**2 for x in range(1, 6)]\n",
    "print(\"Exercise 9:\", squares)\n"
   ]
  },
  {
   "cell_type": "markdown",
   "metadata": {},
   "source": [
    "## Exercise 10: Set Union and Intersection\n",
    "\n",
    "Given two sets, print their union and intersection"
   ]
  },
  {
   "cell_type": "code",
   "execution_count": 10,
   "metadata": {},
   "outputs": [
    {
     "name": "stdout",
     "output_type": "stream",
     "text": [
      "Exercise 10: Union - {1, 2, 3, 4, 5} Intersection - {3}\n"
     ]
    }
   ],
   "source": [
    "set1 = {1, 2, 3}\n",
    "set2 = {3, 4, 5}\n",
    "print(\"Exercise 10: Union -\", set1.union(set2), \"Intersection -\", set1.intersection(set2))\n"
   ]
  }
 ],
 "metadata": {
  "kernelspec": {
   "display_name": "Python 3",
   "language": "python",
   "name": "python3"
  },
  "language_info": {
   "codemirror_mode": {
    "name": "ipython",
    "version": 3
   },
   "file_extension": ".py",
   "mimetype": "text/x-python",
   "name": "python",
   "nbconvert_exporter": "python",
   "pygments_lexer": "ipython3",
   "version": "3.11.8"
  }
 },
 "nbformat": 4,
 "nbformat_minor": 2
}
